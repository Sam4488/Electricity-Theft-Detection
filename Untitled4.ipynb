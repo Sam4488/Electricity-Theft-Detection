{
  "cells": [
    {
      "cell_type": "code",
      "execution_count": 1,
      "metadata": {
        "id": "QOPK1pPMUvpb"
      },
      "outputs": [],
      "source": [
        "import pandas as pd\n",
        "import numpy as np\n",
        "import seaborn as sns\n",
        "import matplotlib.pyplot as plt"
      ]
    },
    {
      "cell_type": "code",
      "execution_count": 2,
      "metadata": {
        "id": "tuaFImwKdaE9"
      },
      "outputs": [],
      "source": [
        "#Load the dataset\n",
        "file_path = \"C:\\\\Users\\\\abhin\\\\projects\\\\DesignOfSmartCities\\\\data set.csv\\\\data set.csv\" # Change this to your file path\n",
        "df = pd.read_csv(file_path)"
      ]
    },
    {
      "cell_type": "code",
      "execution_count": 3,
      "metadata": {
        "colab": {
          "base_uri": "https://localhost:8080/"
        },
        "id": "L8zfWumpdhf9",
        "outputId": "7ba798df-e2fd-45c1-a4c6-818ac0ab4c3f"
      },
      "outputs": [
        {
          "name": "stdout",
          "output_type": "stream",
          "text": [
            "Dataset Information:\n",
            "<class 'pandas.core.frame.DataFrame'>\n",
            "RangeIndex: 42372 entries, 0 to 42371\n",
            "Columns: 1036 entries, 1/1/2014 to FLAG\n",
            "dtypes: float64(1034), int64(1), object(1)\n",
            "memory usage: 334.9+ MB\n",
            "\n",
            "First 5 Rows of the Dataset:\n",
            "   1/1/2014  1/2/2014  1/3/2014  1/4/2014  1/5/2014  1/6/2014  1/7/2014  \\\n",
            "0       0.0       0.0      0.01       0.0       0.0      0.00      0.00   \n",
            "1       0.0       0.0      0.00       0.0       0.0      0.00      0.00   \n",
            "2       0.0       0.0      0.00       0.0       0.0      4.98      9.87   \n",
            "3       0.0       0.0      0.00       0.0       0.0      0.00      0.00   \n",
            "4       0.0       0.0      0.00       0.0       0.0      0.00      0.00   \n",
            "\n",
            "   1/8/2014  1/9/2014  1/10/2014  ...  10/24/2016  10/25/2016  10/26/2016  \\\n",
            "0      0.00      0.00       0.00  ...        0.02        0.06        0.58   \n",
            "1      0.00      0.00       0.00  ...       17.13       14.32       16.37   \n",
            "2     11.29     13.44      11.34  ...         NaN        1.43        2.22   \n",
            "3      0.00      0.00       0.00  ...       20.98       18.47       15.50   \n",
            "4      0.00      0.00       0.00  ...        0.61        1.33        0.55   \n",
            "\n",
            "   10/27/2016  10/28/2016  10/29/2016  10/30/2016  10/31/2016  \\\n",
            "0        0.89        0.35        0.38        0.70        0.25   \n",
            "1       26.33       19.06       17.38       13.94       14.14   \n",
            "2        2.41        3.48        2.89        1.88        1.16   \n",
            "3       14.80       19.28       16.10       17.51       16.67   \n",
            "4        1.62        1.53        2.10        1.16        2.13   \n",
            "\n",
            "                            CONS_NO  FLAG  \n",
            "0  0387DD8A07E07FDA6271170F86AD9151     1  \n",
            "1  01D6177B5D4FFE0CABA9EF17DAFC2B84     1  \n",
            "2  4B75AC4F2D8434CFF62DB64D0BB43103     1  \n",
            "3  B32AC8CC6D5D805AC053557AB05F5343     1  \n",
            "4  EDFC78B07BA2908B3395C4EB2304665E     1  \n",
            "\n",
            "[5 rows x 1036 columns]\n"
          ]
        }
      ],
      "source": [
        "#Display basic dataset information\n",
        "print(\"Dataset Information:\")\n",
        "df.info()\n",
        "print(\"\\nFirst 5 Rows of the Dataset:\")\n",
        "print(df.head())"
      ]
    },
    {
      "cell_type": "code",
      "execution_count": 4,
      "metadata": {
        "colab": {
          "base_uri": "https://localhost:8080/"
        },
        "id": "C7URQezJdkID",
        "outputId": "85b52695-bafb-415f-941e-d77052a0e7fb"
      },
      "outputs": [
        {
          "name": "stdout",
          "output_type": "stream",
          "text": [
            "\n",
            "Summary Statistics:\n",
            "           1/1/2014      1/2/2014      1/3/2014      1/4/2014      1/5/2014  \\\n",
            "count  25870.000000  25873.000000  25872.000000  25874.000000  25874.000000   \n",
            "mean       7.168735      7.057237      6.704972      7.237638      7.394550   \n",
            "std       34.131237     30.086443     31.223720     49.508191     41.464202   \n",
            "min        0.000000      0.000000      0.000000      0.000000      0.000000   \n",
            "25%        0.000000      0.000000      0.000000      0.000000      0.000000   \n",
            "50%        3.310000      3.400000      3.110000      3.340000      3.560000   \n",
            "75%        8.910000      8.570000      8.110000      8.320000      8.880000   \n",
            "max     3318.000000   2500.000000   2674.000000   5670.000000   4854.000000   \n",
            "\n",
            "           1/6/2014      1/7/2014      1/8/2014      1/9/2014     1/10/2014  \\\n",
            "count  25878.000000  25879.000000  25907.000000  25907.000000  25912.000000   \n",
            "mean       6.939544      7.271432      6.862706      6.956579      6.954202   \n",
            "std       37.583286     64.114745     34.842458     39.684055     40.017856   \n",
            "min        0.000000      0.000000      0.000000      0.000000      0.000000   \n",
            "25%        0.000000      0.000000      0.000000      0.000000      0.000000   \n",
            "50%        3.325000      3.120000      3.210000      3.120000      2.870000   \n",
            "75%        8.290000      8.090000      8.120000      8.210000      8.170000   \n",
            "max     4170.000000   7119.810000   3546.000000   4416.000000   3966.000000   \n",
            "\n",
            "       ...    10/23/2016    10/24/2016    10/25/2016    10/26/2016  \\\n",
            "count  ...  41824.000000  41820.000000  41665.000000  41623.000000   \n",
            "mean   ...      9.692272      8.503682      9.032455      9.396710   \n",
            "std    ...     75.590148     81.278000     79.378526     80.896258   \n",
            "min    ...      0.000000      0.000000      0.000000      0.000000   \n",
            "25%    ...      0.810000      0.750000      0.790000      0.810000   \n",
            "50%    ...      4.780000      4.290000      4.420000      4.530000   \n",
            "75%    ...      9.662500      8.400000      8.680000      9.010000   \n",
            "max    ...  11100.000000  13560.000000  11940.000000  12480.000000   \n",
            "\n",
            "         10/27/2016    10/28/2016    10/29/2016    10/30/2016    10/31/2016  \\\n",
            "count  41397.000000  41443.000000  41637.000000  41634.000000  41569.000000   \n",
            "mean       9.878270      9.934374      8.845107      8.355138      8.224294   \n",
            "std       92.312243     88.382736     84.201505     78.702362     70.861576   \n",
            "min        0.000000      0.000000      0.000000      0.000000      0.000000   \n",
            "25%        0.840000      0.870000      0.790000      0.770000      0.770000   \n",
            "50%        4.650000      4.710000      4.450000      4.390000      4.290000   \n",
            "75%        9.350000      9.510000      8.750000      8.490000      8.110000   \n",
            "max    15180.000000  14970.000000  14100.000000  12480.000000   9990.000000   \n",
            "\n",
            "               FLAG  \n",
            "count  42372.000000  \n",
            "mean       0.085316  \n",
            "std        0.279354  \n",
            "min        0.000000  \n",
            "25%        0.000000  \n",
            "50%        0.000000  \n",
            "75%        0.000000  \n",
            "max        1.000000  \n",
            "\n",
            "[8 rows x 1035 columns]\n"
          ]
        }
      ],
      "source": [
        "#Summary statistics\n",
        "print(\"\\nSummary Statistics:\")\n",
        "print(df.describe())"
      ]
    },
    {
      "cell_type": "code",
      "execution_count": 5,
      "metadata": {
        "colab": {
          "base_uri": "https://localhost:8080/"
        },
        "id": "-6GgDl5LdqCW",
        "outputId": "d2e0d326-3f28-461e-be8a-b28c690c2b29"
      },
      "outputs": [
        {
          "name": "stdout",
          "output_type": "stream",
          "text": [
            "\n",
            "Missing Values per Column:\n",
            "1/1/2014      16502\n",
            "1/2/2014      16499\n",
            "1/3/2014      16500\n",
            "1/4/2014      16498\n",
            "1/5/2014      16498\n",
            "              ...  \n",
            "10/29/2016      735\n",
            "10/30/2016      738\n",
            "10/31/2016      803\n",
            "CONS_NO           0\n",
            "FLAG              0\n",
            "Length: 1036, dtype: int64\n"
          ]
        }
      ],
      "source": [
        "#Check for missing values\n",
        "print(\"\\nMissing Values per Column:\")\n",
        "print(df.isnull().sum())"
      ]
    },
    {
      "cell_type": "code",
      "execution_count": 6,
      "metadata": {
        "colab": {
          "base_uri": "https://localhost:8080/"
        },
        "id": "ix6GZRX7ds_f",
        "outputId": "3b4b6a56-847f-4a69-ff99-dd3155a6bfde"
      },
      "outputs": [
        {
          "name": "stdout",
          "output_type": "stream",
          "text": [
            "\n",
            "Total Missing Values After Handling: 0\n",
            "Missing Values Fixed: True\n"
          ]
        }
      ],
      "source": [
        "#Handle missing values by replacing with mean of previous and next values\n",
        "def fill_missing_values(series):\n",
        "    return series.interpolate(method='linear', limit_direction='both')\n",
        "\n",
        "for col in df.columns[:-2]:  # Exclude CONS_NO and FLAG columns\n",
        "    df[col] = fill_missing_values(df[col])\n",
        "\n",
        "# Verify missing values are handled\n",
        "def check_missing_values(df):\n",
        "    total_missing = df.isnull().sum().sum()\n",
        "    print(\"\\nTotal Missing Values After Handling:\", total_missing)\n",
        "    return total_missing == 0\n",
        "\n",
        "print(\"Missing Values Fixed:\", check_missing_values(df))"
      ]
    },
    {
      "cell_type": "code",
      "execution_count": 7,
      "metadata": {
        "colab": {
          "base_uri": "https://localhost:8080/"
        },
        "id": "kx9gkjxedwsT",
        "outputId": "f2e9ba5d-3409-4bd4-a81f-f58b5e238dc1"
      },
      "outputs": [
        {
          "name": "stdout",
          "output_type": "stream",
          "text": [
            "\n",
            "Class Distribution in FLAG Column:\n",
            "FLAG\n",
            "0    38757\n",
            "1     3615\n",
            "Name: count, dtype: int64\n"
          ]
        }
      ],
      "source": [
        "#Check class distribution in FLAG column\n",
        "print(\"\\nClass Distribution in FLAG Column:\")\n",
        "print(df['FLAG'].value_counts())"
      ]
    },
    {
      "cell_type": "code",
      "execution_count": 8,
      "metadata": {
        "id": "tzQsHCnod5t6"
      },
      "outputs": [
        {
          "data": {
            "image/png": "[encoded data removed]",
            "text/plain": [
              "<Figure size 1200x500 with 1 Axes>"
            ]
          },
          "metadata": {},
          "output_type": "display_data"
        }
      ],
      "source": [
        "#Visualize electricity consumption trends\n",
        "df.iloc[:, :-2].mean().plot(figsize=(12, 5), title='Average Electricity Consumption Over Time')\n",
        "plt.xlabel('Days')\n",
        "plt.ylabel('Consumption')\n",
        "plt.show()"
      ]
    },
    {
      "cell_type": "code",
      "execution_count": 9,
      "metadata": {
        "id": "kuoHeJ_rd5xF"
      },
      "outputs": [
        {
          "name": "stdout",
          "output_type": "stream",
          "text": [
            "Outliers Fixed: False\n"
          ]
        }
      ],
      "source": [
        "#Detect and handle outliers\n",
        "\n",
        "def remove_outliers(df):\n",
        "    for col in df.columns[:-2]:  # Exclude CONS_NO and FLAG columns\n",
        "        Q1 = df[col].quantile(0.25)\n",
        "        Q3 = df[col].quantile(0.75)\n",
        "        IQR = Q3 - Q1\n",
        "        lower_bound = Q1 - 1.5 * IQR\n",
        "        upper_bound = Q3 + 1.5 * IQR\n",
        "        df[col] = np.where((df[col] < lower_bound) | (df[col] > upper_bound), np.nan, df[col])\n",
        "    numeric_cols = df.select_dtypes(include=['number'])\n",
        "    df[numeric_cols.columns] = df[numeric_cols.columns].apply(lambda x: x.fillna(int(x.median())))\n",
        "\n",
        "remove_outliers(df)\n",
        "\n",
        "# Verify outliers are handled\n",
        "def check_outliers(df):\n",
        "    for col in df.columns[:-2]:\n",
        "        Q1 = df[col].quantile(0.25)\n",
        "        Q3 = df[col].quantile(0.75)\n",
        "        IQR = Q3 - Q1\n",
        "        lower_bound = Q1 - 1.5 * IQR\n",
        "        upper_bound = Q3 + 1.5 * IQR\n",
        "        if ((df[col] < lower_bound).sum() > 0) or ((df[col] > upper_bound).sum() > 0):\n",
        "            return False\n",
        "    return True\n",
        "\n",
        "print(\"Outliers Fixed:\", check_outliers(df))"
      ]
    },
    {
      "cell_type": "code",
      "execution_count": 10,
      "metadata": {
        "id": "TYzdQfuSd50K"
      },
      "outputs": [
        {
          "data": {
            "image/png": "[encoded data removed]",
            "text/plain": [
              "<Figure size 1200x600 with 1 Axes>"
            ]
          },
          "metadata": {},
          "output_type": "display_data"
        }
      ],
      "source": [
        "#Detect outliers using box plots after handling\n",
        "plt.figure(figsize=(12, 6))\n",
        "sns.boxplot(data=df.iloc[:, :-2])\n",
        "plt.xticks(rotation=90)\n",
        "plt.title(\"Outlier Detection After Handling\")\n",
        "plt.show()"
      ]
    },
    {
      "cell_type": "code",
      "execution_count": 12,
      "metadata": {
        "id": "PnejroRefGdx"
      },
      "outputs": [
        {
          "ename": "ModuleNotFoundError",
          "evalue": "No module named 'sklearn'",
          "output_type": "error",
          "traceback": [
            "\u001b[31m---------------------------------------------------------------------------\u001b[39m",
            "\u001b[31mModuleNotFoundError\u001b[39m                       Traceback (most recent call last)",
            "\u001b[36mCell\u001b[39m\u001b[36m \u001b[39m\u001b[32mIn[12]\u001b[39m\u001b[32m, line 1\u001b[39m\n\u001b[32m----> \u001b[39m\u001b[32m1\u001b[39m \u001b[38;5;28;01mfrom\u001b[39;00m\u001b[38;5;250m \u001b[39m\u001b[34;01msklearn\u001b[39;00m\u001b[34;01m.\u001b[39;00m\u001b[34;01mmodel_selection\u001b[39;00m\u001b[38;5;250m \u001b[39m\u001b[38;5;28;01mimport\u001b[39;00m train_test_split\n\u001b[32m      2\u001b[39m \u001b[38;5;28;01mfrom\u001b[39;00m\u001b[38;5;250m \u001b[39m\u001b[34;01msklearn\u001b[39;00m\u001b[34;01m.\u001b[39;00m\u001b[34;01mmetrics\u001b[39;00m\u001b[38;5;250m \u001b[39m\u001b[38;5;28;01mimport\u001b[39;00m mean_absolute_error, mean_squared_error, f1_score, accuracy_score\n\u001b[32m      3\u001b[39m \u001b[38;5;28;01mfrom\u001b[39;00m\u001b[38;5;250m \u001b[39m\u001b[34;01msklearn\u001b[39;00m\u001b[34;01m.\u001b[39;00m\u001b[34;01mensemble\u001b[39;00m\u001b[38;5;250m \u001b[39m\u001b[38;5;28;01mimport\u001b[39;00m RandomForestClassifier\n",
            "\u001b[31mModuleNotFoundError\u001b[39m: No module named 'sklearn'"
          ]
        }
      ],
      "source": [
        "from sklearn.model_selection import train_test_split\n",
        "from sklearn.metrics import mean_absolute_error, mean_squared_error, f1_score, accuracy_score\n",
        "from sklearn.ensemble import RandomForestClassifier\n",
        "from sklearn.linear_model import LogisticRegression\n",
        "from sklearn.svm import SVC\n",
        "from tensorflow import keras\n",
        "from sklearn.inspection import DecisionBoundaryDisplay\n",
        "from tensorflow.keras.models import Sequential\n",
        "from tensorflow.keras.layers import Dense, Dropout\n",
        "from sklearn.metrics import confusion_matrix, classification_report\n",
        "from sklearn.model_selection import GridSearchCV"
      ]
    },
    {
      "cell_type": "code",
      "execution_count": null,
      "metadata": {
        "id": "DjLZd2BmfPlG"
      },
      "outputs": [],
      "source": [
        "X = df.iloc[:, :-2]  # Features (all consumption columns)\n",
        "y = df['FLAG']       # Target variable\n",
        "X_train, X_test, y_train, y_test = train_test_split(X, y, test_size=0.4, random_state=42)\n"
      ]
    },
    {
      "cell_type": "code",
      "execution_count": null,
      "metadata": {
        "id": "dIA1u2R1fST7"
      },
      "outputs": [],
      "source": [
        "def evaluate_model(model, X_test, y_test):\n",
        "    y_pred = model.predict(X_test)\n",
        "    rmse = np.sqrt(mean_squared_error(y_test, y_pred))\n",
        "    mae = mean_absolute_error(y_test, y_pred)\n",
        "    f1 = f1_score(y_test, y_pred)\n",
        "    accuracy = accuracy_score(y_test, y_pred)\n",
        "    print(f\"RMSE: {rmse}, MAE: {mae}, F1 Score: {f1}, Accuracy: {accuracy}\")\n",
        "    print(classification_report(y_test, y_pred))\n",
        "    print(confusion_matrix(y_test, y_pred))"
      ]
    },
    {
      "cell_type": "code",
      "execution_count": null,
      "metadata": {
        "colab": {
          "base_uri": "https://localhost:8080/"
        },
        "id": "_QtsWKNIfUoL",
        "outputId": "3cb24230-4c40-4ac0-f20a-e3409ca26c7f"
      },
      "outputs": [
        {
          "name": "stderr",
          "output_type": "stream",
          "text": [
            "/usr/local/lib/python3.11/dist-packages/sklearn/linear_model/_logistic.py:465: ConvergenceWarning: lbfgs failed to converge (status=1):\n",
            "STOP: TOTAL NO. of ITERATIONS REACHED LIMIT.\n",
            "\n",
            "Increase the number of iterations (max_iter) or scale the data as shown in:\n",
            "    https://scikit-learn.org/stable/modules/preprocessing.html\n",
            "Please also refer to the documentation for alternative solver options:\n",
            "    https://scikit-learn.org/stable/modules/linear_model.html#logistic-regression\n",
            "  n_iter_i = _check_optimize_result(\n"
          ]
        },
        {
          "name": "stdout",
          "output_type": "stream",
          "text": [
            "Logistic Regression Performance:\n",
            "RMSE: 0.24925400527981958, MAE: 0.062127559148032335, F1 Score: 0.5288590604026846, Accuracy: 0.9378724408519676\n",
            "              precision    recall  f1-score   support\n",
            "\n",
            "           0       0.95      0.99      0.97     15478\n",
            "           1       0.77      0.40      0.53      1471\n",
            "\n",
            "    accuracy                           0.94     16949\n",
            "   macro avg       0.86      0.70      0.75     16949\n",
            "weighted avg       0.93      0.94      0.93     16949\n",
            "\n",
            "[[15305   173]\n",
            " [  880   591]]\n"
          ]
        }
      ],
      "source": [
        "# Logistic Regression Model\n",
        "log_model = LogisticRegression(class_weight='balanced')\n",
        "log_model.fit(X_train, y_train)\n",
        "print(\"Logistic Regression Performance:\")\n",
        "evaluate_model(log_model, X_test, y_test)"
      ]
    },
    {
      "cell_type": "code",
      "execution_count": null,
      "metadata": {
        "id": "GUHc8eVynRzC"
      },
      "outputs": [],
      "source": [
        "param_grid = {\n",
        "    'C': [0.001],\n",
        "    'penalty': ['l2'],\n",
        "    'solver': ['liblinear', 'saga'],  # Compatible solvers for L1/L2\n",
        "    'max_iter': [100, 50],\n",
        "    'class_weight': ['balanced']\n",
        "}\n",
        "\n",
        "# Initialize Logistic Regression model\n",
        "log_reg = LogisticRegression()\n",
        "\n",
        "# Perform GridSearchCV\n",
        "grid_search = GridSearchCV(log_reg, param_grid, cv=5, scoring='accuracy', n_jobs=-1)\n",
        "grid_search.fit(X_train, y_train)\n",
        "\n",
        "# Print best parameters\n",
        "print(\"Best Parameters:\", grid_search.best_params_)\n",
        "print(\"Best Score:\", grid_search.best_score_)"
      ]
    },
    {
      "cell_type": "code",
      "execution_count": null,
      "metadata": {
        "id": "Xg_-tHbKiYgn"
      },
      "outputs": [],
      "source": [
        "# Plot decision boundary\n",
        "plt.figure(figsize=(8,6))\n",
        "DecisionBoundaryDisplay.from_estimator(log_model, X_train, cmap=\"coolwarm\", alpha=0.5)\n",
        "\n",
        "# Scatter plot of actual data points\n",
        "sns.scatterplot(x=X_train.iloc[:, 0], y=X_train.iloc[:, 1], hue=y_train, palette=\"coolwarm\", edgecolor=\"k\")\n",
        "plt.xlabel(\"Feature 1\")\n",
        "plt.ylabel(\"Feature 2\")\n",
        "plt.title(\"Logistic Regression Decision Boundary\")\n",
        "plt.show()"
      ]
    },
    {
      "cell_type": "code",
      "execution_count": null,
      "metadata": {
        "colab": {
          "base_uri": "https://localhost:8080/"
        },
        "id": "cmeUWGCAfWU_",
        "outputId": "843d7693-4c05-4e22-c11a-bce01a7fd976"
      },
      "outputs": [
        {
          "name": "stdout",
          "output_type": "stream",
          "text": [
            "Random Forest Performance:\n",
            "RMSE: 0.2840998528942557, MAE: 0.08071272641453774, F1 Score: 0.14713216957605985, Accuracy: 0.9192872735854623\n"
          ]
        }
      ],
      "source": [
        "# Random Forest Model\n",
        "rf_model = RandomForestClassifier(n_estimators=100, random_state=42)\n",
        "rf_model.fit(X_train, y_train)\n",
        "print(\"Random Forest Performance:\")\n",
        "evaluate_model(rf_model, X_test, y_test)"
      ]
    },
    {
      "cell_type": "code",
      "execution_count": null,
      "metadata": {
        "colab": {
          "base_uri": "https://localhost:8080/"
        },
        "id": "evbc83CffXj3",
        "outputId": "afb3ef1a-ae48-419a-c5f0-059c6c563acc"
      },
      "outputs": [
        {
          "name": "stdout",
          "output_type": "stream",
          "text": [
            "SVM Performance:\n",
            "RMSE: 0.294601054152951, MAE: 0.08678978110802997, F1 Score: 0.0, Accuracy: 0.9132102188919701\n"
          ]
        }
      ],
      "source": [
        "# Support Vector Machine Model\n",
        "svm_model = SVC()\n",
        "svm_model.fit(X_train, y_train)\n",
        "print(\"SVM Performance:\")\n",
        "evaluate_model(svm_model, X_test, y_test)"
      ]
    },
    {
      "cell_type": "code",
      "execution_count": null,
      "metadata": {
        "colab": {
          "base_uri": "https://localhost:8080/"
        },
        "id": "XceWI8TCfZRk",
        "outputId": "dd03f919-fcd2-4053-eb7f-2f131d6a9876"
      },
      "outputs": [
        {
          "name": "stderr",
          "output_type": "stream",
          "text": [
            "/usr/local/lib/python3.11/dist-packages/keras/src/layers/core/dense.py:87: UserWarning: Do not pass an `input_shape`/`input_dim` argument to a layer. When using Sequential models, prefer using an `Input(shape)` object as the first layer in the model instead.\n",
            "  super().__init__(activity_regularizer=activity_regularizer, **kwargs)\n"
          ]
        },
        {
          "name": "stdout",
          "output_type": "stream",
          "text": [
            "Epoch 1/20\n",
            "\u001b[1m795/795\u001b[0m \u001b[32m━━━━━━━━━━━━━━━━━━━━\u001b[0m\u001b[37m\u001b[0m \u001b[1m7s\u001b[0m 7ms/step - accuracy: 0.8388 - loss: 4.1001 - val_accuracy: 0.9134 - val_loss: 0.3097\n",
            "Epoch 2/20\n",
            "\u001b[1m795/795\u001b[0m \u001b[32m━━━━━━━━━━━━━━━━━━━━\u001b[0m\u001b[37m\u001b[0m \u001b[1m8s\u001b[0m 5ms/step - accuracy: 0.9085 - loss: 0.3121 - val_accuracy: 0.9136 - val_loss: 0.3084\n",
            "Epoch 3/20\n",
            "\u001b[1m795/795\u001b[0m \u001b[32m━━━━━━━━━━━━━━━━━━━━\u001b[0m\u001b[37m\u001b[0m \u001b[1m6s\u001b[0m 7ms/step - accuracy: 0.9129 - loss: 0.2878 - val_accuracy: 0.9132 - val_loss: 0.2695\n",
            "Epoch 4/20\n",
            "\u001b[1m795/795\u001b[0m \u001b[32m━━━━━━━━━━━━━━━━━━━━\u001b[0m\u001b[37m\u001b[0m \u001b[1m11s\u001b[0m 7ms/step - accuracy: 0.9170 - loss: 0.2612 - val_accuracy: 0.9133 - val_loss: 0.2738\n",
            "Epoch 5/20\n",
            "\u001b[1m795/795\u001b[0m \u001b[32m━━━━━━━━━━━━━━━━━━━━\u001b[0m\u001b[37m\u001b[0m \u001b[1m4s\u001b[0m 5ms/step - accuracy: 0.9132 - loss: 0.2810 - val_accuracy: 0.9160 - val_loss: 0.2708\n",
            "Epoch 6/20\n",
            "\u001b[1m795/795\u001b[0m \u001b[32m━━━━━━━━━━━━━━━━━━━━\u001b[0m\u001b[37m\u001b[0m \u001b[1m4s\u001b[0m 5ms/step - accuracy: 0.9158 - loss: 0.2751 - val_accuracy: 0.9133 - val_loss: 0.2743\n",
            "Epoch 7/20\n",
            "\u001b[1m795/795\u001b[0m \u001b[32m━━━━━━━━━━━━━━━━━━━━\u001b[0m\u001b[37m\u001b[0m \u001b[1m5s\u001b[0m 6ms/step - accuracy: 0.9175 - loss: 0.2632 - val_accuracy: 0.9132 - val_loss: 0.2840\n",
            "Epoch 8/20\n",
            "\u001b[1m795/795\u001b[0m \u001b[32m━━━━━━━━━━━━━━━━━━━━\u001b[0m\u001b[37m\u001b[0m \u001b[1m10s\u001b[0m 6ms/step - accuracy: 0.9216 - loss: 0.2596 - val_accuracy: 0.9173 - val_loss: 0.2591\n",
            "Epoch 9/20\n",
            "\u001b[1m795/795\u001b[0m \u001b[32m━━━━━━━━━━━━━━━━━━━━\u001b[0m\u001b[37m\u001b[0m \u001b[1m6s\u001b[0m 7ms/step - accuracy: 0.9213 - loss: 0.2560 - val_accuracy: 0.9244 - val_loss: 0.2382\n",
            "Epoch 10/20\n",
            "\u001b[1m795/795\u001b[0m \u001b[32m━━━━━━━━━━━━━━━━━━━━\u001b[0m\u001b[37m\u001b[0m \u001b[1m5s\u001b[0m 7ms/step - accuracy: 0.9251 - loss: 0.2383 - val_accuracy: 0.9233 - val_loss: 0.2413\n",
            "Epoch 11/20\n",
            "\u001b[1m795/795\u001b[0m \u001b[32m━━━━━━━━━━━━━━━━━━━━\u001b[0m\u001b[37m\u001b[0m \u001b[1m7s\u001b[0m 9ms/step - accuracy: 0.9243 - loss: 0.2364 - val_accuracy: 0.9188 - val_loss: 0.2534\n",
            "Epoch 12/20\n",
            "\u001b[1m795/795\u001b[0m \u001b[32m━━━━━━━━━━━━━━━━━━━━\u001b[0m\u001b[37m\u001b[0m \u001b[1m8s\u001b[0m 6ms/step - accuracy: 0.9287 - loss: 0.2315 - val_accuracy: 0.9280 - val_loss: 0.2285\n",
            "Epoch 13/20\n",
            "\u001b[1m795/795\u001b[0m \u001b[32m━━━━━━━━━━━━━━━━━━━━\u001b[0m\u001b[37m\u001b[0m \u001b[1m6s\u001b[0m 8ms/step - accuracy: 0.9302 - loss: 0.2219 - val_accuracy: 0.9134 - val_loss: 0.2622\n",
            "Epoch 14/20\n",
            "\u001b[1m795/795\u001b[0m \u001b[32m━━━━━━━━━━━━━━━━━━━━\u001b[0m\u001b[37m\u001b[0m \u001b[1m10s\u001b[0m 7ms/step - accuracy: 0.9255 - loss: 0.2319 - val_accuracy: 0.9209 - val_loss: 0.2458\n",
            "Epoch 15/20\n",
            "\u001b[1m795/795\u001b[0m \u001b[32m━━━━━━━━━━━━━━━━━━━━\u001b[0m\u001b[37m\u001b[0m \u001b[1m9s\u001b[0m 6ms/step - accuracy: 0.9287 - loss: 0.2213 - val_accuracy: 0.9278 - val_loss: 0.2254\n",
            "Epoch 16/20\n",
            "\u001b[1m795/795\u001b[0m \u001b[32m━━━━━━━━━━━━━━━━━━━━\u001b[0m\u001b[37m\u001b[0m \u001b[1m5s\u001b[0m 6ms/step - accuracy: 0.9282 - loss: 0.2183 - val_accuracy: 0.9305 - val_loss: 0.2210\n",
            "Epoch 17/20\n",
            "\u001b[1m795/795\u001b[0m \u001b[32m━━━━━━━━━━━━━━━━━━━━\u001b[0m\u001b[37m\u001b[0m \u001b[1m4s\u001b[0m 5ms/step - accuracy: 0.9353 - loss: 0.2052 - val_accuracy: 0.9274 - val_loss: 0.2254\n",
            "Epoch 18/20\n",
            "\u001b[1m795/795\u001b[0m \u001b[32m━━━━━━━━━━━━━━━━━━━━\u001b[0m\u001b[37m\u001b[0m \u001b[1m4s\u001b[0m 5ms/step - accuracy: 0.9339 - loss: 0.2058 - val_accuracy: 0.9274 - val_loss: 0.2204\n",
            "Epoch 19/20\n",
            "\u001b[1m795/795\u001b[0m \u001b[32m━━━━━━━━━━━━━━━━━━━━\u001b[0m\u001b[37m\u001b[0m \u001b[1m6s\u001b[0m 7ms/step - accuracy: 0.9330 - loss: 0.2084 - val_accuracy: 0.9282 - val_loss: 0.2278\n",
            "Epoch 20/20\n",
            "\u001b[1m795/795\u001b[0m \u001b[32m━━━━━━━━━━━━━━━━━━━━\u001b[0m\u001b[37m\u001b[0m \u001b[1m4s\u001b[0m 5ms/step - accuracy: 0.9323 - loss: 0.2044 - val_accuracy: 0.9311 - val_loss: 0.2168\n",
            "\u001b[1m530/530\u001b[0m \u001b[32m━━━━━━━━━━━━━━━━━━━━\u001b[0m\u001b[37m\u001b[0m \u001b[1m1s\u001b[0m 2ms/step\n",
            "MLP Performance - RMSE: 0.2625121334597354, MAE: 0.06891262021358192, F1 Score: 0.43079922027290446, Accuracy: 0.9310873797864181\n"
          ]
        }
      ],
      "source": [
        "# Deep Learning Model (MLP)\n",
        "mlp_model = Sequential([\n",
        "    Dense(64, activation='relu', input_shape=(X_train.shape[1],)),\n",
        "    Dropout(0.2),\n",
        "    Dense(32, activation='relu'),\n",
        "    Dense(1, activation='sigmoid')\n",
        "])\n",
        "\n",
        "mlp_model.compile(optimizer='adam', loss='binary_crossentropy', metrics=['accuracy'])\n",
        "mlp_model.fit(X_train, y_train, epochs=20, batch_size=32, validation_data=(X_test, y_test))\n",
        "\n",
        "# Evaluate MLP Model\n",
        "y_pred_mlp = (mlp_model.predict(X_test) > 0.5).astype(\"int32\")\n",
        "rmse_mlp = np.sqrt(mean_squared_error(y_test, y_pred_mlp))\n",
        "mae_mlp = mean_absolute_error(y_test, y_pred_mlp)\n",
        "f1_mlp = f1_score(y_test, y_pred_mlp)\n",
        "accuracy_mlp = accuracy_score(y_test, y_pred_mlp)\n",
        "print(f\"MLP Performance - RMSE: {rmse_mlp}, MAE: {mae_mlp}, F1 Score: {f1_mlp}, Accuracy: {accuracy_mlp}\")\n"
      ]
    }
  ],
  "metadata": {
    "colab": {
      "provenance": []
    },
    "kernelspec": {
      "display_name": "Python 3",
      "name": "python3"
    },
    "language_info": {
      "codemirror_mode": {
        "name": "ipython",
        "version": 3
      },
      "file_extension": ".py",
      "mimetype": "text/x-python",
      "name": "python",
      "nbconvert_exporter": "python",
      "pygments_lexer": "ipython3",
      "version": "3.11.9"
    }
  },
  "nbformat": 4,
  "nbformat_minor": 0
}
